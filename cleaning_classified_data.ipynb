{
 "cells": [
  {
   "cell_type": "code",
   "execution_count": 187,
   "metadata": {},
   "outputs": [],
   "source": [
    "import numpy as np\n",
    "import pandas as pd \n",
    "import datetime \n",
    "from string import punctuation\n",
    "from textblob import TextBlob\n",
    "from nltk.sentiment.vader import SentimentIntensityAnalyzer\n",
    "import nltk\n",
    "import spacy\n",
    "from sklearn.pipeline import Pipeline\n",
    "from sklearn.svm import LinearSVC\n",
    "from sklearn.feature_extraction.text import TfidfVectorizer\n",
    "from sklearn.feature_extraction import text\n",
    "from sklearn import metrics\n",
    "import re \n",
    "import matplotlib.pyplot as plt"
   ]
  },
  {
   "cell_type": "code",
   "execution_count": 188,
   "metadata": {},
   "outputs": [],
   "source": [
    "import advertools as adv\n",
    "from nltk.corpus import stopwords\n",
    "from nltk.tokenize import word_tokenize"
   ]
  },
  {
   "cell_type": "code",
   "execution_count": 189,
   "metadata": {},
   "outputs": [],
   "source": [
    "classified = pd.read_excel('tweet_class.xlsx')"
   ]
  },
  {
   "cell_type": "code",
   "execution_count": 190,
   "metadata": {},
   "outputs": [],
   "source": [
    "classified = classified[classified['label'].isna()== False]"
   ]
  },
  {
   "cell_type": "code",
   "execution_count": 191,
   "metadata": {},
   "outputs": [
    {
     "data": {
      "text/html": [
       "<div>\n",
       "<style scoped>\n",
       "    .dataframe tbody tr th:only-of-type {\n",
       "        vertical-align: middle;\n",
       "    }\n",
       "\n",
       "    .dataframe tbody tr th {\n",
       "        vertical-align: top;\n",
       "    }\n",
       "\n",
       "    .dataframe thead th {\n",
       "        text-align: right;\n",
       "    }\n",
       "</style>\n",
       "<table border=\"1\" class=\"dataframe\">\n",
       "  <thead>\n",
       "    <tr style=\"text-align: right;\">\n",
       "      <th></th>\n",
       "      <th>Unnamed: 0</th>\n",
       "      <th>Tweet Id</th>\n",
       "      <th>Text</th>\n",
       "      <th>label</th>\n",
       "    </tr>\n",
       "  </thead>\n",
       "  <tbody>\n",
       "    <tr>\n",
       "      <th>0</th>\n",
       "      <td>1</td>\n",
       "      <td>1421621483521158912</td>\n",
       "      <td>شدخل كويلي بعدين ياقلبي انت موافق يدخل بجسم...</td>\n",
       "      <td>neg</td>\n",
       "    </tr>\n",
       "    <tr>\n",
       "      <th>1</th>\n",
       "      <td>4</td>\n",
       "      <td>1421618720405863936</td>\n",
       "      <td>سالت دكتوره تقول عادي فيه حوامل اخذو لقاح</td>\n",
       "      <td>pos</td>\n",
       "    </tr>\n",
       "    <tr>\n",
       "      <th>2</th>\n",
       "      <td>5</td>\n",
       "      <td>1421618331946266880</td>\n",
       "      <td>جتني كررونا قبل والان اخذت لقاح وصرت محصنه اك...</td>\n",
       "      <td>neg</td>\n",
       "    </tr>\n",
       "    <tr>\n",
       "      <th>3</th>\n",
       "      <td>6</td>\n",
       "      <td>1421618142556611072</td>\n",
       "      <td>معليش والله اخذتي اللقاح ولا ما اخذتيه ما راح...</td>\n",
       "      <td>pos</td>\n",
       "    </tr>\n",
       "    <tr>\n",
       "      <th>4</th>\n",
       "      <td>7</td>\n",
       "      <td>1421618038810497024</td>\n",
       "      <td>رسمياًوزارة التعليم على جميع منسوبي التعليم ال...</td>\n",
       "      <td>neu</td>\n",
       "    </tr>\n",
       "  </tbody>\n",
       "</table>\n",
       "</div>"
      ],
      "text/plain": [
       "   Unnamed: 0             Tweet Id  \\\n",
       "0           1  1421621483521158912   \n",
       "1           4  1421618720405863936   \n",
       "2           5  1421618331946266880   \n",
       "3           6  1421618142556611072   \n",
       "4           7  1421618038810497024   \n",
       "\n",
       "                                                Text label  \n",
       "0     شدخل كويلي بعدين ياقلبي انت موافق يدخل بجسم...   neg  \n",
       "1          سالت دكتوره تقول عادي فيه حوامل اخذو لقاح   pos  \n",
       "2   جتني كررونا قبل والان اخذت لقاح وصرت محصنه اك...   neg  \n",
       "3   معليش والله اخذتي اللقاح ولا ما اخذتيه ما راح...   pos  \n",
       "4  رسمياًوزارة التعليم على جميع منسوبي التعليم ال...   neu  "
      ]
     },
     "execution_count": 191,
     "metadata": {},
     "output_type": "execute_result"
    }
   ],
   "source": [
    "classified.head()"
   ]
  },
  {
   "cell_type": "code",
   "execution_count": 192,
   "metadata": {},
   "outputs": [
    {
     "data": {
      "text/plain": [
       "neu    241\n",
       "neg    137\n",
       "pos    119\n",
       "Name: label, dtype: int64"
      ]
     },
     "execution_count": 192,
     "metadata": {},
     "output_type": "execute_result"
    }
   ],
   "source": [
    "classified['label'].value_counts()"
   ]
  },
  {
   "cell_type": "code",
   "execution_count": 193,
   "metadata": {},
   "outputs": [
    {
     "data": {
      "text/plain": [
       "(497, 4)"
      ]
     },
     "execution_count": 193,
     "metadata": {},
     "output_type": "execute_result"
    }
   ],
   "source": [
    "classified.shape"
   ]
  },
  {
   "cell_type": "code",
   "execution_count": 194,
   "metadata": {},
   "outputs": [],
   "source": [
    "classified.drop(['Unnamed: 0', 'Tweet Id'], axis= 1, inplace=True)"
   ]
  },
  {
   "cell_type": "code",
   "execution_count": 195,
   "metadata": {},
   "outputs": [
    {
     "data": {
      "text/plain": [
       "'لاللتطعيمالاجباري مع اخر يوم هذه الزبدة لدي الانظمة الصحية من الاجبار لا يهم تموت او تتعافي المهم هو ان لا ترهقنا عندما تصاب وتستنزف مقدراتنا الصحية ونتكلف عليك الاف الدولارات نعطيك لقاح ب دولار يخفف اعراض الاصابه وانت وحظك اما تموت او تحيا عليلا'"
      ]
     },
     "execution_count": 195,
     "metadata": {},
     "output_type": "execute_result"
    }
   ],
   "source": [
    "classified['Text'][12]"
   ]
  },
  {
   "cell_type": "code",
   "execution_count": 196,
   "metadata": {},
   "outputs": [
    {
     "data": {
      "text/plain": [
       "0         شدخل كويلي بعدين ياقلبي انت موافق يدخل بجسم...\n",
       "1              سالت دكتوره تقول عادي فيه حوامل اخذو لقاح\n",
       "2       جتني كررونا قبل والان اخذت لقاح وصرت محصنه اك...\n",
       "3       معليش والله اخذتي اللقاح ولا ما اخذتيه ما راح...\n",
       "4      رسمياًوزارة التعليم على جميع منسوبي التعليم ال...\n",
       "                             ...                        \n",
       "493        هو ماغلط هو كذب ، جالس يقول ان كـورونا انص...\n",
       "494      لا مو من حقه واذا كان في كرونا و اعدى الباقي...\n",
       "495    حملة تطعيم لقاح كورونا بدار الملاحظة الاجتماعي...\n",
       "496    وقالت الدراسة، التي تم إجراؤها خلال الفترة الو...\n",
       "497    وأوصى مسؤولو الصحة في إسرائيل، بإعطاء جرعات مع...\n",
       "Name: Text, Length: 497, dtype: object"
      ]
     },
     "execution_count": 196,
     "metadata": {},
     "output_type": "execute_result"
    }
   ],
   "source": [
    "# drop punctuation \n",
    "classified['Text']= classified['Text'].str.replace('[~,,)'',|,RT,/,(,\\n,_,!,:,-,1,2,؟,3,4,5,6,7,8,9,0,&,;,#,?,.,=\"]', '')\n",
    "classified['Text']"
   ]
  },
  {
   "cell_type": "code",
   "execution_count": 197,
   "metadata": {},
   "outputs": [],
   "source": [
    "classified['Text'] = classified['Text'].str.replace('[^\\w\\s#@/:%.,_-]', '', flags=re.UNICODE)"
   ]
  },
  {
   "cell_type": "code",
   "execution_count": 198,
   "metadata": {},
   "outputs": [
    {
     "name": "stdout",
     "output_type": "stream",
     "text": [
      "['إذ', 'إذا', 'إذما', 'إذن', 'أف', 'أقل', 'أكثر', 'ألا', 'إلا', 'التي', 'الذي', 'الذين', 'اللاتي', 'اللائي', 'اللتان', 'اللتيا', 'اللتين', 'اللذان', 'اللذين', 'اللواتي', 'إلى', 'إليك', 'إليكم', 'إليكما', 'إليكن', 'أم', 'أما', 'أما', 'إما', 'أن', 'إن', 'إنا', 'أنا', 'أنت', 'أنتم', 'أنتما', 'أنتن', 'إنما', 'إنه', 'أنى', 'أنى', 'آه', 'آها', 'أو', 'أولاء', 'أولئك', 'أوه', 'آي', 'أي', 'أيها', 'إي', 'أين', 'أين', 'أينما', 'إيه', 'بخ', 'بس', 'بعد', 'بعض', 'بك', 'بكم', 'بكم', 'بكما', 'بكن', 'بل', 'بلى', 'بما', 'بماذا', 'بمن', 'بنا', 'به', 'بها', 'بهم', 'بهما', 'بهن', 'بي', 'بين', 'بيد', 'تلك', 'تلكم', 'تلكما', 'ته', 'تي', 'تين', 'تينك', 'ثم', 'ثمة', 'حاشا', 'حبذا', 'حتى', 'حيث', 'حيثما', 'حين', 'خلا', 'دون', 'ذا', 'ذات', 'ذاك', 'ذان', 'ذانك', 'ذلك', 'ذلكم', 'ذلكما', 'ذلكن', 'ذه', 'ذو', 'ذوا', 'ذواتا', 'ذواتي', 'ذي', 'ذين', 'ذينك', 'ريث', 'سوف', 'سوى', 'شتان', 'عدا', 'عسى', 'عل', 'على', 'عليك', 'عليه', 'عما', 'عن', 'عند', 'غير', 'فإذا', 'فإن', 'فلا', 'فمن', 'في', 'فيم', 'فيما', 'فيه', 'فيها', 'قد', 'كأن', 'كأنما', 'كأي', 'كأين', 'كذا', 'كذلك', 'كل', 'كلا', 'كلاهما', 'كلتا', 'كلما', 'كليكما', 'كليهما', 'كم', 'كم', 'كما', 'كي', 'كيت', 'كيف', 'كيفما', 'لا', 'لاسيما', 'لدى', 'لست', 'لستم', 'لستما', 'لستن', 'لسن', 'لسنا', 'لعل', 'لك', 'لكم', 'لكما', 'لكن', 'لكنما', 'لكي', 'لكيلا', 'لم', 'لما', 'لن', 'لنا', 'له', 'لها', 'لهم', 'لهما', 'لهن', 'لو', 'لولا', 'لوما', 'لي', 'لئن', 'ليت', 'ليس', 'ليسا', 'ليست', 'ليستا', 'ليسوا', 'ما', 'ماذا', 'متى', 'مذ', 'مع', 'مما', 'ممن', 'من', 'منه', 'منها', 'منذ', 'مه', 'مهما', 'نحن', 'نحو', 'نعم', 'ها', 'هاتان', 'هاته', 'هاتي', 'هاتين', 'هاك', 'هاهنا', 'هذا', 'هذان', 'هذه', 'هذي', 'هذين', 'هكذا', 'هل', 'هلا', 'هم', 'هما', 'هن', 'هنا', 'هناك', 'هنالك', 'هو', 'هؤلاء', 'هي', 'هيا', 'هيت', 'هيهات', 'والذي', 'والذين', 'وإذ', 'وإذا', 'وإن', 'ولا', 'ولكن', 'ولو', 'وما', 'ومن', 'وهو', 'يا']\n"
     ]
    }
   ],
   "source": [
    "stop_words= list(stopwords.words('arabic'))\n",
    "print(stop_words)"
   ]
  },
  {
   "cell_type": "code",
   "execution_count": 199,
   "metadata": {},
   "outputs": [],
   "source": [
    "new_stopwords= [\"والله\",\"مساء الخير\",\"يعني\",\"والحين\",\"عنه\",\"انت\",\"طيب\" ,\"الي\"]\n",
    "stop_words = stop_words + new_stopwords"
   ]
  },
  {
   "cell_type": "code",
   "execution_count": 200,
   "metadata": {},
   "outputs": [],
   "source": [
    "classified['Text_tokz'] = [word_tokenize(w) for w in classified['Text']]"
   ]
  },
  {
   "cell_type": "code",
   "execution_count": 201,
   "metadata": {},
   "outputs": [],
   "source": [
    "classified['without_sw']= classified['Text_tokz'].apply(lambda x: [item for item in x if item not in stop_words])"
   ]
  },
  {
   "cell_type": "code",
   "execution_count": 202,
   "metadata": {},
   "outputs": [],
   "source": [
    "stemmer = nltk.ISRIStemmer()\n",
    "classified['stem_w']= classified['without_sw'].apply(lambda x: [stemmer.stem(w) for w in x])"
   ]
  },
  {
   "cell_type": "code",
   "execution_count": 203,
   "metadata": {},
   "outputs": [],
   "source": [
    "lemmatizer = nltk.WordNetLemmatizer()\n",
    "classified['lemma_w']= classified['without_sw'].apply(lambda x: [lemmatizer.lemmatize(w) for w in x])"
   ]
  },
  {
   "cell_type": "code",
   "execution_count": 204,
   "metadata": {},
   "outputs": [],
   "source": [
    "classified['clean_data'] = classified['stem_w'].apply(' '.join)"
   ]
  },
  {
   "cell_type": "code",
   "execution_count": 205,
   "metadata": {},
   "outputs": [
    {
     "data": {
      "text/html": [
       "<div>\n",
       "<style scoped>\n",
       "    .dataframe tbody tr th:only-of-type {\n",
       "        vertical-align: middle;\n",
       "    }\n",
       "\n",
       "    .dataframe tbody tr th {\n",
       "        vertical-align: top;\n",
       "    }\n",
       "\n",
       "    .dataframe thead th {\n",
       "        text-align: right;\n",
       "    }\n",
       "</style>\n",
       "<table border=\"1\" class=\"dataframe\">\n",
       "  <thead>\n",
       "    <tr style=\"text-align: right;\">\n",
       "      <th></th>\n",
       "      <th>Text</th>\n",
       "      <th>label</th>\n",
       "      <th>Text_tokz</th>\n",
       "      <th>without_sw</th>\n",
       "      <th>stem_w</th>\n",
       "      <th>lemma_w</th>\n",
       "      <th>clean_data</th>\n",
       "    </tr>\n",
       "  </thead>\n",
       "  <tbody>\n",
       "    <tr>\n",
       "      <th>146</th>\n",
       "      <td>أبلغت هيئة الطيران المدني السعودي الشركات العا...</td>\n",
       "      <td>neu</td>\n",
       "      <td>[أبلغت, هيئة, الطيران, المدني, السعودي, الشركا...</td>\n",
       "      <td>[أبلغت, هيئة, الطيران, المدني, السعودي, الشركا...</td>\n",
       "      <td>[بلغ, هيئ, طير, دني, سعد, شرك, عمل, قطع, سمح, ...</td>\n",
       "      <td>[أبلغت, هيئة, الطيران, المدني, السعودي, الشركا...</td>\n",
       "      <td>بلغ هيئ طير دني سعد شرك عمل قطع سمح نقل سيح حص...</td>\n",
       "    </tr>\n",
       "    <tr>\n",
       "      <th>456</th>\n",
       "      <td>مدري ليه غير توصيته ايواااااا لانهم عرفوا ان ...</td>\n",
       "      <td>neg</td>\n",
       "      <td>[مدري, ليه, غير, توصيته, ايواااااا, لانهم, عرف...</td>\n",
       "      <td>[مدري, ليه, توصيته, ايواااااا, لانهم, عرفوا, ا...</td>\n",
       "      <td>[دري, ليه, وصت, ايواااااا, لان, عرف, ان, لقح, ...</td>\n",
       "      <td>[مدري, ليه, توصيته, ايواااااا, لانهم, عرفوا, ا...</td>\n",
       "      <td>دري ليه وصت ايواااااا لان عرف ان لقح فشل نسب ا...</td>\n",
       "    </tr>\n",
       "    <tr>\n",
       "      <th>323</th>\n",
       "      <td>انا تعبانه وعندي أمراض مزمنه واخذ دوا سيوله ...</td>\n",
       "      <td>neg</td>\n",
       "      <td>[انا, تعبانه, وعندي, أمراض, مزمنه, واخذ, دوا, ...</td>\n",
       "      <td>[انا, تعبانه, وعندي, أمراض, مزمنه, واخذ, دوا, ...</td>\n",
       "      <td>[انا, تعب, عند, مرض, زمن, وخذ, دوا, سيل, اخذ, ...</td>\n",
       "      <td>[انا, تعبانه, وعندي, أمراض, مزمنه, واخذ, دوا, ...</td>\n",
       "      <td>انا تعب عند مرض زمن وخذ دوا سيل اخذ لقح سبب جل...</td>\n",
       "    </tr>\n",
       "    <tr>\n",
       "      <th>96</th>\n",
       "      <td>منجد البندول للحامل بس لضروره القصوى تاخذه ...</td>\n",
       "      <td>neg</td>\n",
       "      <td>[منجد, البندول, للحامل, بس, لضروره, القصوى, تا...</td>\n",
       "      <td>[منجد, البندول, للحامل, لضروره, القصوى, تاخذه,...</td>\n",
       "      <td>[نجد, ندل, حمل, ضرر, قصى, تخذ, ماتكثر, وهم, عط...</td>\n",
       "      <td>[منجد, البندول, للحامل, لضروره, القصوى, تاخذه,...</td>\n",
       "      <td>نجد ندل حمل ضرر قصى تخذ ماتكثر وهم عطو لقح ضرر...</td>\n",
       "    </tr>\n",
       "    <tr>\n",
       "      <th>103</th>\n",
       "      <td>عندي استفسار اخدت جرعه من لقاح كورونا وما اتس...</td>\n",
       "      <td>neu</td>\n",
       "      <td>[عندي, استفسار, اخدت, جرعه, من, لقاح, كورونا, ...</td>\n",
       "      <td>[عندي, استفسار, اخدت, جرعه, لقاح, كورونا, اتسج...</td>\n",
       "      <td>[عند, فسر, اخد, جرع, لقح, كورو, سجل, حين]</td>\n",
       "      <td>[عندي, استفسار, اخدت, جرعه, لقاح, كورونا, اتسج...</td>\n",
       "      <td>عند فسر اخد جرع لقح كورو سجل حين</td>\n",
       "    </tr>\n",
       "  </tbody>\n",
       "</table>\n",
       "</div>"
      ],
      "text/plain": [
       "                                                  Text label  \\\n",
       "146  أبلغت هيئة الطيران المدني السعودي الشركات العا...   neu   \n",
       "456   مدري ليه غير توصيته ايواااااا لانهم عرفوا ان ...   neg   \n",
       "323    انا تعبانه وعندي أمراض مزمنه واخذ دوا سيوله ...   neg   \n",
       "96      منجد البندول للحامل بس لضروره القصوى تاخذه ...   neg   \n",
       "103   عندي استفسار اخدت جرعه من لقاح كورونا وما اتس...   neu   \n",
       "\n",
       "                                             Text_tokz  \\\n",
       "146  [أبلغت, هيئة, الطيران, المدني, السعودي, الشركا...   \n",
       "456  [مدري, ليه, غير, توصيته, ايواااااا, لانهم, عرف...   \n",
       "323  [انا, تعبانه, وعندي, أمراض, مزمنه, واخذ, دوا, ...   \n",
       "96   [منجد, البندول, للحامل, بس, لضروره, القصوى, تا...   \n",
       "103  [عندي, استفسار, اخدت, جرعه, من, لقاح, كورونا, ...   \n",
       "\n",
       "                                            without_sw  \\\n",
       "146  [أبلغت, هيئة, الطيران, المدني, السعودي, الشركا...   \n",
       "456  [مدري, ليه, توصيته, ايواااااا, لانهم, عرفوا, ا...   \n",
       "323  [انا, تعبانه, وعندي, أمراض, مزمنه, واخذ, دوا, ...   \n",
       "96   [منجد, البندول, للحامل, لضروره, القصوى, تاخذه,...   \n",
       "103  [عندي, استفسار, اخدت, جرعه, لقاح, كورونا, اتسج...   \n",
       "\n",
       "                                                stem_w  \\\n",
       "146  [بلغ, هيئ, طير, دني, سعد, شرك, عمل, قطع, سمح, ...   \n",
       "456  [دري, ليه, وصت, ايواااااا, لان, عرف, ان, لقح, ...   \n",
       "323  [انا, تعب, عند, مرض, زمن, وخذ, دوا, سيل, اخذ, ...   \n",
       "96   [نجد, ندل, حمل, ضرر, قصى, تخذ, ماتكثر, وهم, عط...   \n",
       "103          [عند, فسر, اخد, جرع, لقح, كورو, سجل, حين]   \n",
       "\n",
       "                                               lemma_w  \\\n",
       "146  [أبلغت, هيئة, الطيران, المدني, السعودي, الشركا...   \n",
       "456  [مدري, ليه, توصيته, ايواااااا, لانهم, عرفوا, ا...   \n",
       "323  [انا, تعبانه, وعندي, أمراض, مزمنه, واخذ, دوا, ...   \n",
       "96   [منجد, البندول, للحامل, لضروره, القصوى, تاخذه,...   \n",
       "103  [عندي, استفسار, اخدت, جرعه, لقاح, كورونا, اتسج...   \n",
       "\n",
       "                                            clean_data  \n",
       "146  بلغ هيئ طير دني سعد شرك عمل قطع سمح نقل سيح حص...  \n",
       "456  دري ليه وصت ايواااااا لان عرف ان لقح فشل نسب ا...  \n",
       "323  انا تعب عند مرض زمن وخذ دوا سيل اخذ لقح سبب جل...  \n",
       "96   نجد ندل حمل ضرر قصى تخذ ماتكثر وهم عطو لقح ضرر...  \n",
       "103                   عند فسر اخد جرع لقح كورو سجل حين  "
      ]
     },
     "execution_count": 205,
     "metadata": {},
     "output_type": "execute_result"
    }
   ],
   "source": [
    "classified.sample(5)"
   ]
  },
  {
   "cell_type": "code",
   "execution_count": 206,
   "metadata": {},
   "outputs": [],
   "source": [
    "X= classified['Text']\n",
    "y= classified['label']"
   ]
  },
  {
   "cell_type": "code",
   "execution_count": 207,
   "metadata": {},
   "outputs": [
    {
     "name": "stdout",
     "output_type": "stream",
     "text": [
      "Training Data Shape: (347,)\n",
      "Testing Data Shape:  (150,)\n"
     ]
    }
   ],
   "source": [
    "from sklearn.model_selection import train_test_split\n",
    "\n",
    "X_train, X_test, y_train, y_test = train_test_split(X, y, test_size=0.30, random_state=42)\n",
    "\n",
    "print('Training Data Shape:', X_train.shape)\n",
    "print('Testing Data Shape: ', X_test.shape)"
   ]
  },
  {
   "cell_type": "code",
   "execution_count": 208,
   "metadata": {},
   "outputs": [],
   "source": [
    "from sklearn.pipeline import make_pipeline\n",
    "from sklearn.model_selection import train_test_split\n",
    "from sklearn.metrics import confusion_matrix,accuracy_score, classification_report\n",
    "from sklearn.linear_model import LogisticRegression"
   ]
  },
  {
   "cell_type": "code",
   "execution_count": 209,
   "metadata": {},
   "outputs": [],
   "source": [
    "\n",
    "X_train, X_test, y_train, y_test = train_test_split(X, y, test_size=0.33, random_state=42)\n",
    "\n",
    "\n",
    "clf = LinearSVC()\n",
    "text_clf = Pipeline([('tfidf', TfidfVectorizer()),\n",
    "                     ('clf', LinearSVC(C=1))])\n",
    "\n",
    "text_clf.fit(X_train, y_train)\n",
    "predictions = text_clf.predict(X_test)\n",
    "\n"
   ]
  },
  {
   "cell_type": "code",
   "execution_count": 210,
   "metadata": {},
   "outputs": [
    {
     "name": "stdout",
     "output_type": "stream",
     "text": [
      "\n",
      "Confusion matrix:\n",
      "[[30  9  6]\n",
      " [ 6 74  3]\n",
      " [14 13 10]]\n",
      "\n",
      "Classification report:\n",
      "              precision    recall  f1-score   support\n",
      "\n",
      "         neg       0.60      0.67      0.63        45\n",
      "         neu       0.77      0.89      0.83        83\n",
      "         pos       0.53      0.27      0.36        37\n",
      "\n",
      "    accuracy                           0.69       165\n",
      "   macro avg       0.63      0.61      0.61       165\n",
      "weighted avg       0.67      0.69      0.67       165\n",
      "\n",
      "\n",
      "Accuracy score= 0.6909090909090909\n"
     ]
    }
   ],
   "source": [
    "print (\"\\nConfusion matrix:\")\n",
    "cf_metric = metrics.confusion_matrix(y_test,predictions)\n",
    "print (cf_metric)\n",
    "                                     \n",
    "print (\"\\nClassification report:\")\n",
    "c_report = metrics.classification_report(y_test,predictions)\n",
    "print (c_report)\n",
    "                                     \n",
    "acc = metrics.accuracy_score(y_test,predictions)      \n",
    "print (\"\\nAccuracy score=\",acc)"
   ]
  },
  {
   "cell_type": "code",
   "execution_count": 211,
   "metadata": {},
   "outputs": [
    {
     "data": {
      "text/plain": [
       "'\\n# splitting into train and tests\\nX_train, X_test, Y_train, Y_test = train_test_split(X, y, test_size =.2, random_state=100)\\n\\n# make pipeline\\nclf =  LogisticRegression()\\ntext_clf = Pipeline([(\\'tfidf\\', TfidfVectorizer()),\\n                     (\\'clf\\', LogisticRegression(solver=\\'lbfgs\\'))])\\n\\n# create and fit the model\\n\\nmodel.fit(X_train,Y_train)\\n\\n# make prediction and print accuracy\\nprediction = model.predict(X_test)\\nprint(f\"Accuracy score is {accuracy_score(Y_test, prediction):.2f}\")\\nprint(classification_report(Y_test, prediction))\\n\\n\\n\\n'"
      ]
     },
     "execution_count": 211,
     "metadata": {},
     "output_type": "execute_result"
    }
   ],
   "source": [
    "'''\n",
    "# splitting into train and tests\n",
    "X_train, X_test, Y_train, Y_test = train_test_split(X, y, test_size =.2, random_state=100)\n",
    "\n",
    "# make pipeline\n",
    "clf =  LogisticRegression()\n",
    "text_clf = Pipeline([('tfidf', TfidfVectorizer()),\n",
    "                     ('clf', LogisticRegression(solver='lbfgs'))])\n",
    "\n",
    "# create and fit the model\n",
    "\n",
    "model.fit(X_train,Y_train)\n",
    "\n",
    "# make prediction and print accuracy\n",
    "prediction = model.predict(X_test)\n",
    "print(f\"Accuracy score is {accuracy_score(Y_test, prediction):.2f}\")\n",
    "print(classification_report(Y_test, prediction))\n",
    "\n",
    "\n",
    "\n",
    "'''\n"
   ]
  },
  {
   "cell_type": "markdown",
   "metadata": {},
   "source": [
    "## applying the model on the data"
   ]
  },
  {
   "cell_type": "code",
   "execution_count": 212,
   "metadata": {},
   "outputs": [],
   "source": [
    "data = pd.read_csv('june_data.csv')"
   ]
  },
  {
   "cell_type": "code",
   "execution_count": 213,
   "metadata": {},
   "outputs": [
    {
     "data": {
      "text/plain": [
       "(100001, 8)"
      ]
     },
     "execution_count": 213,
     "metadata": {},
     "output_type": "execute_result"
    }
   ],
   "source": [
    "data.shape"
   ]
  },
  {
   "cell_type": "code",
   "execution_count": 214,
   "metadata": {},
   "outputs": [],
   "source": [
    "data['Datetime'] =  pd.to_datetime(data['Datetime'])\n",
    "data['date']= data['Datetime'].dt.date"
   ]
  },
  {
   "cell_type": "code",
   "execution_count": 215,
   "metadata": {},
   "outputs": [
    {
     "data": {
      "text/html": [
       "<div>\n",
       "<style scoped>\n",
       "    .dataframe tbody tr th:only-of-type {\n",
       "        vertical-align: middle;\n",
       "    }\n",
       "\n",
       "    .dataframe tbody tr th {\n",
       "        vertical-align: top;\n",
       "    }\n",
       "\n",
       "    .dataframe thead th {\n",
       "        text-align: right;\n",
       "    }\n",
       "</style>\n",
       "<table border=\"1\" class=\"dataframe\">\n",
       "  <thead>\n",
       "    <tr style=\"text-align: right;\">\n",
       "      <th></th>\n",
       "      <th>Unnamed: 0</th>\n",
       "      <th>Datetime</th>\n",
       "      <th>Tweet Id</th>\n",
       "      <th>Text</th>\n",
       "      <th>Username</th>\n",
       "      <th>loc</th>\n",
       "      <th>verified</th>\n",
       "      <th>media</th>\n",
       "      <th>date</th>\n",
       "    </tr>\n",
       "  </thead>\n",
       "  <tbody>\n",
       "    <tr>\n",
       "      <th>0</th>\n",
       "      <td>0</td>\n",
       "      <td>2021-06-29 23:59:24+00:00</td>\n",
       "      <td>1410025136212881418</td>\n",
       "      <td>@ssnn911 لقاح  كارونا اخذنه    بس الباقي  لازم</td>\n",
       "      <td>amira_9901</td>\n",
       "      <td>NaN</td>\n",
       "      <td>False</td>\n",
       "      <td>NaN</td>\n",
       "      <td>2021-06-29</td>\n",
       "    </tr>\n",
       "    <tr>\n",
       "      <th>1</th>\n",
       "      <td>1</td>\n",
       "      <td>2021-06-29 23:58:43+00:00</td>\n",
       "      <td>1410024964124708865</td>\n",
       "      <td>لا \"PCR\" للمطعمين.. #سفارة_المملكة بالقاهرة تع...</td>\n",
       "      <td>bisha_R1</td>\n",
       "      <td>بيشة, المملكة العربية السعودية</td>\n",
       "      <td>False</td>\n",
       "      <td>[Photo(previewUrl='https://pbs.twimg.com/media...</td>\n",
       "      <td>2021-06-29</td>\n",
       "    </tr>\n",
       "    <tr>\n",
       "      <th>2</th>\n",
       "      <td>2</td>\n",
       "      <td>2021-06-29 23:57:38+00:00</td>\n",
       "      <td>1410024694846312453</td>\n",
       "      <td>@j03dtmah @nmmesharii انا قلبي محروق اليوم اخذ...</td>\n",
       "      <td>moo30010</td>\n",
       "      <td>NaN</td>\n",
       "      <td>False</td>\n",
       "      <td>NaN</td>\n",
       "      <td>2021-06-29</td>\n",
       "    </tr>\n",
       "    <tr>\n",
       "      <th>3</th>\n",
       "      <td>3</td>\n",
       "      <td>2021-06-29 23:57:22+00:00</td>\n",
       "      <td>1410024624595902464</td>\n",
       "      <td>باتل الخير سوّى كل شي! بس باقي ينزّل لقاح حق ا...</td>\n",
       "      <td>ghdrooo</td>\n",
       "      <td>حبيبتي الكويت</td>\n",
       "      <td>False</td>\n",
       "      <td>NaN</td>\n",
       "      <td>2021-06-29</td>\n",
       "    </tr>\n",
       "    <tr>\n",
       "      <th>4</th>\n",
       "      <td>4</td>\n",
       "      <td>2021-06-29 23:57:14+00:00</td>\n",
       "      <td>1410024592803086340</td>\n",
       "      <td>شكوك حول فاعلية لقاح «#سينوفاك» بعد وفاة عدد م...</td>\n",
       "      <td>q8_news1</td>\n",
       "      <td>kuwait</td>\n",
       "      <td>False</td>\n",
       "      <td>NaN</td>\n",
       "      <td>2021-06-29</td>\n",
       "    </tr>\n",
       "  </tbody>\n",
       "</table>\n",
       "</div>"
      ],
      "text/plain": [
       "   Unnamed: 0                  Datetime             Tweet Id  \\\n",
       "0           0 2021-06-29 23:59:24+00:00  1410025136212881418   \n",
       "1           1 2021-06-29 23:58:43+00:00  1410024964124708865   \n",
       "2           2 2021-06-29 23:57:38+00:00  1410024694846312453   \n",
       "3           3 2021-06-29 23:57:22+00:00  1410024624595902464   \n",
       "4           4 2021-06-29 23:57:14+00:00  1410024592803086340   \n",
       "\n",
       "                                                Text    Username  \\\n",
       "0     @ssnn911 لقاح  كارونا اخذنه    بس الباقي  لازم  amira_9901   \n",
       "1  لا \"PCR\" للمطعمين.. #سفارة_المملكة بالقاهرة تع...    bisha_R1   \n",
       "2  @j03dtmah @nmmesharii انا قلبي محروق اليوم اخذ...    moo30010   \n",
       "3  باتل الخير سوّى كل شي! بس باقي ينزّل لقاح حق ا...     ghdrooo   \n",
       "4  شكوك حول فاعلية لقاح «#سينوفاك» بعد وفاة عدد م...    q8_news1   \n",
       "\n",
       "                              loc  verified  \\\n",
       "0                             NaN     False   \n",
       "1  بيشة, المملكة العربية السعودية     False   \n",
       "2                             NaN     False   \n",
       "3                   حبيبتي الكويت     False   \n",
       "4                          kuwait     False   \n",
       "\n",
       "                                               media        date  \n",
       "0                                                NaN  2021-06-29  \n",
       "1  [Photo(previewUrl='https://pbs.twimg.com/media...  2021-06-29  \n",
       "2                                                NaN  2021-06-29  \n",
       "3                                                NaN  2021-06-29  \n",
       "4                                                NaN  2021-06-29  "
      ]
     },
     "execution_count": 215,
     "metadata": {},
     "output_type": "execute_result"
    }
   ],
   "source": [
    "data.head()"
   ]
  },
  {
   "cell_type": "code",
   "execution_count": 216,
   "metadata": {},
   "outputs": [],
   "source": [
    "data = data[(data['media'].notna() == False) & (data['verified'] == False)]\n",
    "data.drop(['Unnamed: 0', 'Datetime', 'verified', 'media'], axis= 1, inplace = True)"
   ]
  },
  {
   "cell_type": "code",
   "execution_count": 217,
   "metadata": {},
   "outputs": [
    {
     "data": {
      "text/plain": [
       "(71369, 5)"
      ]
     },
     "execution_count": 217,
     "metadata": {},
     "output_type": "execute_result"
    }
   ],
   "source": [
    "data.shape"
   ]
  },
  {
   "cell_type": "code",
   "execution_count": 218,
   "metadata": {},
   "outputs": [],
   "source": [
    "# drop user_name\n",
    "pattern = r'(@//[^\"\\s]+)|(@\\w+)'\n",
    "data['Text']= data.Text.str.replace(pattern, \"\")"
   ]
  },
  {
   "cell_type": "code",
   "execution_count": 219,
   "metadata": {},
   "outputs": [],
   "source": [
    "# drop hashtag \n",
    "pattern = r'(#[A-Za-z0-9_]+)'\n",
    "data['Text']= data.Text.str.replace(pattern, \"\")"
   ]
  },
  {
   "cell_type": "code",
   "execution_count": 220,
   "metadata": {},
   "outputs": [],
   "source": [
    "# drop tweets that have links \n",
    "data = data[data['Text'] != data['Text'].str.contains('http')]"
   ]
  },
  {
   "cell_type": "code",
   "execution_count": 221,
   "metadata": {},
   "outputs": [],
   "source": [
    "# drop emojy\n",
    "data['Text'] = data['Text'].str.replace('[^\\w\\s#@/:%.,_-]', '', flags=re.UNICODE)"
   ]
  },
  {
   "cell_type": "code",
   "execution_count": 222,
   "metadata": {},
   "outputs": [
    {
     "data": {
      "text/plain": [
       "0                    لقاح  كارونا اخذنه    بس الباقي  لازم\n",
       "2          انا قلبي محروق اليوم اخذت لقاح عشان الجامعه ...\n",
       "3        باتل الخير سوى كل شي بس باقي ينزل لقاح حق الكو...\n",
       "4        شكوك حول فاعلية لقاح سينوفاك بعد وفاة عدد من م...\n",
       "5        أتمنى يطلع لقاح ضد التفكير الزايدنبي نرقد هكي ...\n",
       "                               ...                        \n",
       "99990    يعني فيه اشياء مالها دخل فالتربيه هي من تركيبة...\n",
       "99994     اعطوني موعدفي  حزيران لقاح فايزر في مستشفى صي...\n",
       "99996     السلام عليكمانا سعودي اعمل بالكويتوأخذت لقاح ...\n",
       "99997    بعض الكلام داء      وبعض الصمت دواء      والتج...\n",
       "99998    -اليوم صار اسم استرازينكا مصدر لانعدام الثقة ع...\n",
       "Name: Text, Length: 71369, dtype: object"
      ]
     },
     "execution_count": 222,
     "metadata": {},
     "output_type": "execute_result"
    }
   ],
   "source": [
    "# drop punctuation \n",
    "data['Text']= data['Text'].str.replace('[~,,)'',|,RT,/,(,\\n,_,!,:,-,1,2,؟,3,4,5,6,7,8,9,0,&,;,#,?,.,=\"]', '')\n",
    "data['Text']"
   ]
  },
  {
   "cell_type": "code",
   "execution_count": 223,
   "metadata": {
    "scrolled": true
   },
   "outputs": [
    {
     "data": {
      "text/html": [
       "<div>\n",
       "<style scoped>\n",
       "    .dataframe tbody tr th:only-of-type {\n",
       "        vertical-align: middle;\n",
       "    }\n",
       "\n",
       "    .dataframe tbody tr th {\n",
       "        vertical-align: top;\n",
       "    }\n",
       "\n",
       "    .dataframe thead th {\n",
       "        text-align: right;\n",
       "    }\n",
       "</style>\n",
       "<table border=\"1\" class=\"dataframe\">\n",
       "  <thead>\n",
       "    <tr style=\"text-align: right;\">\n",
       "      <th></th>\n",
       "      <th>Tweet Id</th>\n",
       "      <th>Text</th>\n",
       "      <th>Username</th>\n",
       "      <th>loc</th>\n",
       "      <th>date</th>\n",
       "    </tr>\n",
       "  </thead>\n",
       "  <tbody>\n",
       "    <tr>\n",
       "      <th>0</th>\n",
       "      <td>1410025136212881418</td>\n",
       "      <td>لقاح  كارونا اخذنه    بس الباقي  لازم</td>\n",
       "      <td>amira_9901</td>\n",
       "      <td>NaN</td>\n",
       "      <td>2021-06-29</td>\n",
       "    </tr>\n",
       "    <tr>\n",
       "      <th>2</th>\n",
       "      <td>1410024694846312453</td>\n",
       "      <td>انا قلبي محروق اليوم اخذت لقاح عشان الجامعه ...</td>\n",
       "      <td>moo30010</td>\n",
       "      <td>NaN</td>\n",
       "      <td>2021-06-29</td>\n",
       "    </tr>\n",
       "    <tr>\n",
       "      <th>3</th>\n",
       "      <td>1410024624595902464</td>\n",
       "      <td>باتل الخير سوى كل شي بس باقي ينزل لقاح حق الكو...</td>\n",
       "      <td>ghdrooo</td>\n",
       "      <td>حبيبتي الكويت</td>\n",
       "      <td>2021-06-29</td>\n",
       "    </tr>\n",
       "    <tr>\n",
       "      <th>4</th>\n",
       "      <td>1410024592803086340</td>\n",
       "      <td>شكوك حول فاعلية لقاح سينوفاك بعد وفاة عدد من م...</td>\n",
       "      <td>q8_news1</td>\n",
       "      <td>kuwait</td>\n",
       "      <td>2021-06-29</td>\n",
       "    </tr>\n",
       "    <tr>\n",
       "      <th>5</th>\n",
       "      <td>1410024222412394498</td>\n",
       "      <td>أتمنى يطلع لقاح ضد التفكير الزايدنبي نرقد هكي ...</td>\n",
       "      <td>mavic1215</td>\n",
       "      <td>في لُطف الله</td>\n",
       "      <td>2021-06-29</td>\n",
       "    </tr>\n",
       "  </tbody>\n",
       "</table>\n",
       "</div>"
      ],
      "text/plain": [
       "              Tweet Id                                               Text  \\\n",
       "0  1410025136212881418              لقاح  كارونا اخذنه    بس الباقي  لازم   \n",
       "2  1410024694846312453    انا قلبي محروق اليوم اخذت لقاح عشان الجامعه ...   \n",
       "3  1410024624595902464  باتل الخير سوى كل شي بس باقي ينزل لقاح حق الكو...   \n",
       "4  1410024592803086340  شكوك حول فاعلية لقاح سينوفاك بعد وفاة عدد من م...   \n",
       "5  1410024222412394498  أتمنى يطلع لقاح ضد التفكير الزايدنبي نرقد هكي ...   \n",
       "\n",
       "     Username            loc        date  \n",
       "0  amira_9901            NaN  2021-06-29  \n",
       "2    moo30010            NaN  2021-06-29  \n",
       "3     ghdrooo  حبيبتي الكويت  2021-06-29  \n",
       "4    q8_news1         kuwait  2021-06-29  \n",
       "5   mavic1215   في لُطف الله  2021-06-29  "
      ]
     },
     "execution_count": 223,
     "metadata": {},
     "output_type": "execute_result"
    }
   ],
   "source": [
    "data.head()"
   ]
  },
  {
   "cell_type": "code",
   "execution_count": 224,
   "metadata": {},
   "outputs": [],
   "source": [
    "data['label']= text_clf.predict(data['Text'])"
   ]
  },
  {
   "cell_type": "code",
   "execution_count": 225,
   "metadata": {},
   "outputs": [
    {
     "data": {
      "text/html": [
       "<div>\n",
       "<style scoped>\n",
       "    .dataframe tbody tr th:only-of-type {\n",
       "        vertical-align: middle;\n",
       "    }\n",
       "\n",
       "    .dataframe tbody tr th {\n",
       "        vertical-align: top;\n",
       "    }\n",
       "\n",
       "    .dataframe thead th {\n",
       "        text-align: right;\n",
       "    }\n",
       "</style>\n",
       "<table border=\"1\" class=\"dataframe\">\n",
       "  <thead>\n",
       "    <tr style=\"text-align: right;\">\n",
       "      <th></th>\n",
       "      <th>Tweet Id</th>\n",
       "      <th>Text</th>\n",
       "      <th>Username</th>\n",
       "      <th>loc</th>\n",
       "      <th>date</th>\n",
       "      <th>label</th>\n",
       "    </tr>\n",
       "  </thead>\n",
       "  <tbody>\n",
       "    <tr>\n",
       "      <th>0</th>\n",
       "      <td>1410025136212881418</td>\n",
       "      <td>لقاح  كارونا اخذنه    بس الباقي  لازم</td>\n",
       "      <td>amira_9901</td>\n",
       "      <td>NaN</td>\n",
       "      <td>2021-06-29</td>\n",
       "      <td>neu</td>\n",
       "    </tr>\n",
       "    <tr>\n",
       "      <th>2</th>\n",
       "      <td>1410024694846312453</td>\n",
       "      <td>انا قلبي محروق اليوم اخذت لقاح عشان الجامعه ...</td>\n",
       "      <td>moo30010</td>\n",
       "      <td>NaN</td>\n",
       "      <td>2021-06-29</td>\n",
       "      <td>neu</td>\n",
       "    </tr>\n",
       "    <tr>\n",
       "      <th>3</th>\n",
       "      <td>1410024624595902464</td>\n",
       "      <td>باتل الخير سوى كل شي بس باقي ينزل لقاح حق الكو...</td>\n",
       "      <td>ghdrooo</td>\n",
       "      <td>حبيبتي الكويت</td>\n",
       "      <td>2021-06-29</td>\n",
       "      <td>pos</td>\n",
       "    </tr>\n",
       "    <tr>\n",
       "      <th>4</th>\n",
       "      <td>1410024592803086340</td>\n",
       "      <td>شكوك حول فاعلية لقاح سينوفاك بعد وفاة عدد من م...</td>\n",
       "      <td>q8_news1</td>\n",
       "      <td>kuwait</td>\n",
       "      <td>2021-06-29</td>\n",
       "      <td>neu</td>\n",
       "    </tr>\n",
       "    <tr>\n",
       "      <th>5</th>\n",
       "      <td>1410024222412394498</td>\n",
       "      <td>أتمنى يطلع لقاح ضد التفكير الزايدنبي نرقد هكي ...</td>\n",
       "      <td>mavic1215</td>\n",
       "      <td>في لُطف الله</td>\n",
       "      <td>2021-06-29</td>\n",
       "      <td>neg</td>\n",
       "    </tr>\n",
       "  </tbody>\n",
       "</table>\n",
       "</div>"
      ],
      "text/plain": [
       "              Tweet Id                                               Text  \\\n",
       "0  1410025136212881418              لقاح  كارونا اخذنه    بس الباقي  لازم   \n",
       "2  1410024694846312453    انا قلبي محروق اليوم اخذت لقاح عشان الجامعه ...   \n",
       "3  1410024624595902464  باتل الخير سوى كل شي بس باقي ينزل لقاح حق الكو...   \n",
       "4  1410024592803086340  شكوك حول فاعلية لقاح سينوفاك بعد وفاة عدد من م...   \n",
       "5  1410024222412394498  أتمنى يطلع لقاح ضد التفكير الزايدنبي نرقد هكي ...   \n",
       "\n",
       "     Username            loc        date label  \n",
       "0  amira_9901            NaN  2021-06-29   neu  \n",
       "2    moo30010            NaN  2021-06-29   neu  \n",
       "3     ghdrooo  حبيبتي الكويت  2021-06-29   pos  \n",
       "4    q8_news1         kuwait  2021-06-29   neu  \n",
       "5   mavic1215   في لُطف الله  2021-06-29   neg  "
      ]
     },
     "execution_count": 225,
     "metadata": {},
     "output_type": "execute_result"
    }
   ],
   "source": [
    "data.head()"
   ]
  },
  {
   "cell_type": "code",
   "execution_count": 226,
   "metadata": {},
   "outputs": [
    {
     "data": {
      "text/plain": [
       "neu    40067\n",
       "neg    20544\n",
       "pos    10758\n",
       "Name: label, dtype: int64"
      ]
     },
     "execution_count": 226,
     "metadata": {},
     "output_type": "execute_result"
    }
   ],
   "source": [
    "data['label'].value_counts()"
   ]
  },
  {
   "cell_type": "code",
   "execution_count": 227,
   "metadata": {},
   "outputs": [
    {
     "data": {
      "text/plain": [
       "المملكة العربية السعودية    2776\n",
       "Kuwait                      1461\n",
       "دولة الكويت                  778\n",
       "Lebanon                      757\n",
       "Kingdom of Saudi Arabia      712\n",
       "                            ... \n",
       "Pc player, cats, anime         1\n",
       "  ✨                            1\n",
       "NEOM/JEDDAH                    1\n",
       "Cleveland, OH                  1\n",
       "محد مهتم                       1\n",
       "Name: loc, Length: 9131, dtype: int64"
      ]
     },
     "execution_count": 227,
     "metadata": {},
     "output_type": "execute_result"
    }
   ],
   "source": [
    "data['loc'].value_counts()"
   ]
  },
  {
   "cell_type": "code",
   "execution_count": 228,
   "metadata": {
    "scrolled": true
   },
   "outputs": [
    {
     "data": {
      "text/html": [
       "<div>\n",
       "<style scoped>\n",
       "    .dataframe tbody tr th:only-of-type {\n",
       "        vertical-align: middle;\n",
       "    }\n",
       "\n",
       "    .dataframe tbody tr th {\n",
       "        vertical-align: top;\n",
       "    }\n",
       "\n",
       "    .dataframe thead th {\n",
       "        text-align: right;\n",
       "    }\n",
       "</style>\n",
       "<table border=\"1\" class=\"dataframe\">\n",
       "  <thead>\n",
       "    <tr style=\"text-align: right;\">\n",
       "      <th></th>\n",
       "      <th>index</th>\n",
       "      <th>Tweet Id</th>\n",
       "      <th>Text</th>\n",
       "      <th>Username</th>\n",
       "      <th>loc</th>\n",
       "      <th>date</th>\n",
       "      <th>label</th>\n",
       "    </tr>\n",
       "  </thead>\n",
       "  <tbody>\n",
       "    <tr>\n",
       "      <th>0</th>\n",
       "      <td>26</td>\n",
       "      <td>1410021008485064708</td>\n",
       "      <td>بدءا من ١ أغسطس ٢٠٢١هـسيشترط أخذ لقاح كورونا ل...</td>\n",
       "      <td>0education0</td>\n",
       "      <td>المملكة العربية السعودية</td>\n",
       "      <td>2021-06-29</td>\n",
       "      <td>neu</td>\n",
       "    </tr>\n",
       "    <tr>\n",
       "      <th>1</th>\n",
       "      <td>68</td>\n",
       "      <td>1410015684554366976</td>\n",
       "      <td>الي بيتصور الفتره هذي على انه اخذ الجرعة الثان...</td>\n",
       "      <td>khalled_gm</td>\n",
       "      <td>المملكة العربية السعودية</td>\n",
       "      <td>2021-06-29</td>\n",
       "      <td>pos</td>\n",
       "    </tr>\n",
       "    <tr>\n",
       "      <th>2</th>\n",
       "      <td>71</td>\n",
       "      <td>1410015396078534659</td>\n",
       "      <td>الحين اختبار القدرات لازم اخذ لقاح باشهر</td>\n",
       "      <td>zyad518FM</td>\n",
       "      <td>المملكة العربية السعودية</td>\n",
       "      <td>2021-06-29</td>\n",
       "      <td>neu</td>\n",
       "    </tr>\n",
       "    <tr>\n",
       "      <th>3</th>\n",
       "      <td>93</td>\n",
       "      <td>1410011874238812160</td>\n",
       "      <td>انا مقيم وحصلت على لقاح كورونا بمصر وعند تسجي...</td>\n",
       "      <td>sherif77552266</td>\n",
       "      <td>Kingdom of Saudi Arabia</td>\n",
       "      <td>2021-06-29</td>\n",
       "      <td>neu</td>\n",
       "    </tr>\n",
       "    <tr>\n",
       "      <th>4</th>\n",
       "      <td>95</td>\n",
       "      <td>1410011666570416129</td>\n",
       "      <td>إغلاق مواقع التلقيح الأمريكية في  ولايات على ا...</td>\n",
       "      <td>Crypto_Arabs</td>\n",
       "      <td>المملكة العربية السعودية</td>\n",
       "      <td>2021-06-29</td>\n",
       "      <td>pos</td>\n",
       "    </tr>\n",
       "    <tr>\n",
       "      <th>...</th>\n",
       "      <td>...</td>\n",
       "      <td>...</td>\n",
       "      <td>...</td>\n",
       "      <td>...</td>\n",
       "      <td>...</td>\n",
       "      <td>...</td>\n",
       "      <td>...</td>\n",
       "    </tr>\n",
       "    <tr>\n",
       "      <th>3483</th>\n",
       "      <td>99856</td>\n",
       "      <td>1399645075941072896</td>\n",
       "      <td>تم اليوم بحمد لله أخذي الجرعة الثانية من لقاح ...</td>\n",
       "      <td>mandel_fq</td>\n",
       "      <td>المملكة العربية السعودية</td>\n",
       "      <td>2021-06-01</td>\n",
       "      <td>neu</td>\n",
       "    </tr>\n",
       "    <tr>\n",
       "      <th>3484</th>\n",
       "      <td>99878</td>\n",
       "      <td>1399642115542589442</td>\n",
       "      <td>افيدوني يرحمكم الله سألت كم مره مافي اجابةاخذ...</td>\n",
       "      <td>habibm102</td>\n",
       "      <td>المملكة العربية السعودية</td>\n",
       "      <td>2021-06-01</td>\n",
       "      <td>neu</td>\n",
       "    </tr>\n",
       "    <tr>\n",
       "      <th>3485</th>\n",
       "      <td>99880</td>\n",
       "      <td>1399641871241121796</td>\n",
       "      <td>١- مصيبه تخويف الناس من اخذ اللقاح الي هو الح...</td>\n",
       "      <td>nfhat43</td>\n",
       "      <td>المملكة العربية السعودية</td>\n",
       "      <td>2021-06-01</td>\n",
       "      <td>neg</td>\n",
       "    </tr>\n",
       "    <tr>\n",
       "      <th>3486</th>\n",
       "      <td>99956</td>\n",
       "      <td>1399633960393744384</td>\n",
       "      <td>صباح الخير والنور والسرور حمدلله على السلامهل...</td>\n",
       "      <td>omlean1234</td>\n",
       "      <td>المملكة العربية السعودية</td>\n",
       "      <td>2021-06-01</td>\n",
       "      <td>pos</td>\n",
       "    </tr>\n",
       "    <tr>\n",
       "      <th>3487</th>\n",
       "      <td>99998</td>\n",
       "      <td>1399629437650583552</td>\n",
       "      <td>-اليوم صار اسم استرازينكا مصدر لانعدام الثقة ع...</td>\n",
       "      <td>SalehAL3bdli</td>\n",
       "      <td>المملكة العربية السعودية</td>\n",
       "      <td>2021-06-01</td>\n",
       "      <td>neu</td>\n",
       "    </tr>\n",
       "  </tbody>\n",
       "</table>\n",
       "<p>3488 rows × 7 columns</p>\n",
       "</div>"
      ],
      "text/plain": [
       "      index             Tweet Id  \\\n",
       "0        26  1410021008485064708   \n",
       "1        68  1410015684554366976   \n",
       "2        71  1410015396078534659   \n",
       "3        93  1410011874238812160   \n",
       "4        95  1410011666570416129   \n",
       "...     ...                  ...   \n",
       "3483  99856  1399645075941072896   \n",
       "3484  99878  1399642115542589442   \n",
       "3485  99880  1399641871241121796   \n",
       "3486  99956  1399633960393744384   \n",
       "3487  99998  1399629437650583552   \n",
       "\n",
       "                                                   Text        Username  \\\n",
       "0     بدءا من ١ أغسطس ٢٠٢١هـسيشترط أخذ لقاح كورونا ل...     0education0   \n",
       "1     الي بيتصور الفتره هذي على انه اخذ الجرعة الثان...      khalled_gm   \n",
       "2              الحين اختبار القدرات لازم اخذ لقاح باشهر       zyad518FM   \n",
       "3      انا مقيم وحصلت على لقاح كورونا بمصر وعند تسجي...  sherif77552266   \n",
       "4     إغلاق مواقع التلقيح الأمريكية في  ولايات على ا...    Crypto_Arabs   \n",
       "...                                                 ...             ...   \n",
       "3483  تم اليوم بحمد لله أخذي الجرعة الثانية من لقاح ...       mandel_fq   \n",
       "3484   افيدوني يرحمكم الله سألت كم مره مافي اجابةاخذ...       habibm102   \n",
       "3485   ١- مصيبه تخويف الناس من اخذ اللقاح الي هو الح...         nfhat43   \n",
       "3486   صباح الخير والنور والسرور حمدلله على السلامهل...      omlean1234   \n",
       "3487  -اليوم صار اسم استرازينكا مصدر لانعدام الثقة ع...    SalehAL3bdli   \n",
       "\n",
       "                           loc        date label  \n",
       "0     المملكة العربية السعودية  2021-06-29   neu  \n",
       "1     المملكة العربية السعودية  2021-06-29   pos  \n",
       "2     المملكة العربية السعودية  2021-06-29   neu  \n",
       "3      Kingdom of Saudi Arabia  2021-06-29   neu  \n",
       "4     المملكة العربية السعودية  2021-06-29   pos  \n",
       "...                        ...         ...   ...  \n",
       "3483  المملكة العربية السعودية  2021-06-01   neu  \n",
       "3484  المملكة العربية السعودية  2021-06-01   neu  \n",
       "3485  المملكة العربية السعودية  2021-06-01   neg  \n",
       "3486  المملكة العربية السعودية  2021-06-01   pos  \n",
       "3487  المملكة العربية السعودية  2021-06-01   neu  \n",
       "\n",
       "[3488 rows x 7 columns]"
      ]
     },
     "execution_count": 228,
     "metadata": {},
     "output_type": "execute_result"
    }
   ],
   "source": [
    "ksa_t= data[data['loc'].isin(['المملكة العربية السعودية', 'Kingdom of Saudi Arabia'])]\n",
    "ksa_t.reset_index()"
   ]
  },
  {
   "cell_type": "code",
   "execution_count": 229,
   "metadata": {},
   "outputs": [
    {
     "data": {
      "text/plain": [
       "'الي بيتصور الفتره هذي على انه اخذ الجرعة الثانية من لقاح كورونا  بنعرف ان عمره فوق الخمسين عام الله يبارك في اعمارنا جميعا و يرفع عنا هذا الوباء '"
      ]
     },
     "execution_count": 229,
     "metadata": {},
     "output_type": "execute_result"
    }
   ],
   "source": [
    "ksa_t['Text'][68]"
   ]
  },
  {
   "cell_type": "code",
   "execution_count": 230,
   "metadata": {},
   "outputs": [
    {
     "data": {
      "text/plain": [
       "108       اخ بس لو فية لقاح ضد العاطفة نعطي عشاق مرابط ...\n",
       "115      لاللتطعيمالاجباري كوررنا نفس الشي اعراض بعيده ...\n",
       "120         كوررنا نفس الشي اعراض بعيده المدى حتى لو عد...\n",
       "124       ياليت يتم تصنيعه في السعودية نبي لقاح نورة ضد...\n",
       "248       صحيفة التايمز للإتحاد الأوربي  he European Un...\n",
       "                               ...                        \n",
       "98856     الدنيا سلف ودين والواحد يعرف الصح والغلطلكن ا...\n",
       "99216     مركز طبية لاخذ لقاح كورونا في محافظة ينبع الي...\n",
       "99319                   محد بيفضلك من حقك ترفض لقاح تجريبي\n",
       "99331        لقاح كورونا الي الشفاء منه ٩٩% ما بناخذه و...\n",
       "99880     ١- مصيبه تخويف الناس من اخذ اللقاح الي هو الح...\n",
       "Name: Text, Length: 871, dtype: object"
      ]
     },
     "execution_count": 230,
     "metadata": {},
     "output_type": "execute_result"
    }
   ],
   "source": [
    "ksa_t[ksa_t['label']== 'neg']['Text']"
   ]
  },
  {
   "cell_type": "code",
   "execution_count": 231,
   "metadata": {},
   "outputs": [
    {
     "data": {
      "text/plain": [
       "' اخ بس لو فية لقاح ضد العاطفة نعطي عشاق مرابط وبيتروس الجار قال لنجم أدواردو أمسك الباب بس عشان أنخفض مستواة شيء بسيط بعد الاصابه مع العلم اني أشوفة لاعب مميز رغم أنخفاض مستواة مسكوة الباب ولا أحد قال شي عندهم ثقة بقرارات الأدارة وأن الأدارة مراح ترضى بلاعب مستواه غير جيد'"
      ]
     },
     "execution_count": 231,
     "metadata": {},
     "output_type": "execute_result"
    }
   ],
   "source": [
    "ksa_t['Text'][108]"
   ]
  },
  {
   "cell_type": "code",
   "execution_count": 232,
   "metadata": {},
   "outputs": [
    {
     "data": {
      "text/plain": [
       "'   كوررنا نفس الشي اعراض بعيده المدى حتى لو عدت بدون اعراض الفيروس يبقى في الجسم خامل يأثر على العقل والاعصاب واذا تكررت الاصابه اثرها اقوى كلها فينا لقاح ولا كورونا لا مفر الا بتوكل على الله'"
      ]
     },
     "execution_count": 232,
     "metadata": {},
     "output_type": "execute_result"
    }
   ],
   "source": [
    "ksa_t['Text'][120]"
   ]
  },
  {
   "cell_type": "code",
   "execution_count": 233,
   "metadata": {},
   "outputs": [
    {
     "data": {
      "text/plain": [
       "' ١- مصيبه تخويف الناس من اخذ اللقاح الي هو الحل الوحيد بأذن الله لتجاوز هذا الوباالامر الاخر كونه لقاح طارئ هذا لأنه يجب أن يتم توزيعه بأسرع وقت نظرا لاجتياح الوباء بسرعه كبيره للكره الارضيه واللقاح اكتملت جميع مراحل تجربته واكمل سنه للتجارب قبل الاستخدام'"
      ]
     },
     "execution_count": 233,
     "metadata": {},
     "output_type": "execute_result"
    }
   ],
   "source": [
    "ksa_t['Text'][99880]"
   ]
  },
  {
   "cell_type": "code",
   "execution_count": null,
   "metadata": {},
   "outputs": [],
   "source": []
  }
 ],
 "metadata": {
  "kernelspec": {
   "display_name": "Python 3",
   "language": "python",
   "name": "python3"
  },
  "language_info": {
   "codemirror_mode": {
    "name": "ipython",
    "version": 3
   },
   "file_extension": ".py",
   "mimetype": "text/x-python",
   "name": "python",
   "nbconvert_exporter": "python",
   "pygments_lexer": "ipython3",
   "version": "3.8.5"
  }
 },
 "nbformat": 4,
 "nbformat_minor": 4
}
